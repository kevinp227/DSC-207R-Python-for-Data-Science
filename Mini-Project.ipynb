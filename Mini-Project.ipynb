{
 "cells": [
  {
   "cell_type": "code",
   "execution_count": 1,
   "id": "054c83c4",
   "metadata": {},
   "outputs": [],
   "source": [
    "# import libraries\n",
    "import pandas as pd\n",
    "import numpy as np \n",
    "import seaborn as sns\n",
    "import matplotlib.pyplot as plt"
   ]
  },
  {
   "cell_type": "code",
   "execution_count": 2,
   "id": "e9be9210",
   "metadata": {},
   "outputs": [
    {
     "data": {
      "text/html": [
       "<div>\n",
       "<style scoped>\n",
       "    .dataframe tbody tr th:only-of-type {\n",
       "        vertical-align: middle;\n",
       "    }\n",
       "\n",
       "    .dataframe tbody tr th {\n",
       "        vertical-align: top;\n",
       "    }\n",
       "\n",
       "    .dataframe thead th {\n",
       "        text-align: right;\n",
       "    }\n",
       "</style>\n",
       "<table border=\"1\" class=\"dataframe\">\n",
       "  <thead>\n",
       "    <tr style=\"text-align: right;\">\n",
       "      <th></th>\n",
       "      <th>Country</th>\n",
       "      <th>Region</th>\n",
       "      <th>Happiness Rank</th>\n",
       "      <th>Happiness Score</th>\n",
       "      <th>Lower Confidence Interval</th>\n",
       "      <th>Upper Confidence Interval</th>\n",
       "      <th>Economy (GDP per Capita)</th>\n",
       "      <th>Family</th>\n",
       "      <th>Health (Life Expectancy)</th>\n",
       "      <th>Freedom</th>\n",
       "      <th>Trust (Government Corruption)</th>\n",
       "      <th>Generosity</th>\n",
       "      <th>Dystopia Residual</th>\n",
       "    </tr>\n",
       "  </thead>\n",
       "  <tbody>\n",
       "    <tr>\n",
       "      <th>0</th>\n",
       "      <td>Denmark</td>\n",
       "      <td>Western Europe</td>\n",
       "      <td>1</td>\n",
       "      <td>7.526</td>\n",
       "      <td>7.460</td>\n",
       "      <td>7.592</td>\n",
       "      <td>1.44178</td>\n",
       "      <td>1.16374</td>\n",
       "      <td>0.79504</td>\n",
       "      <td>0.57941</td>\n",
       "      <td>0.44453</td>\n",
       "      <td>0.36171</td>\n",
       "      <td>2.73939</td>\n",
       "    </tr>\n",
       "    <tr>\n",
       "      <th>1</th>\n",
       "      <td>Switzerland</td>\n",
       "      <td>Western Europe</td>\n",
       "      <td>2</td>\n",
       "      <td>7.509</td>\n",
       "      <td>7.428</td>\n",
       "      <td>7.590</td>\n",
       "      <td>1.52733</td>\n",
       "      <td>1.14524</td>\n",
       "      <td>0.86303</td>\n",
       "      <td>0.58557</td>\n",
       "      <td>0.41203</td>\n",
       "      <td>0.28083</td>\n",
       "      <td>2.69463</td>\n",
       "    </tr>\n",
       "    <tr>\n",
       "      <th>2</th>\n",
       "      <td>Iceland</td>\n",
       "      <td>Western Europe</td>\n",
       "      <td>3</td>\n",
       "      <td>7.501</td>\n",
       "      <td>7.333</td>\n",
       "      <td>7.669</td>\n",
       "      <td>1.42666</td>\n",
       "      <td>1.18326</td>\n",
       "      <td>0.86733</td>\n",
       "      <td>0.56624</td>\n",
       "      <td>0.14975</td>\n",
       "      <td>0.47678</td>\n",
       "      <td>2.83137</td>\n",
       "    </tr>\n",
       "    <tr>\n",
       "      <th>3</th>\n",
       "      <td>Norway</td>\n",
       "      <td>Western Europe</td>\n",
       "      <td>4</td>\n",
       "      <td>7.498</td>\n",
       "      <td>7.421</td>\n",
       "      <td>7.575</td>\n",
       "      <td>1.57744</td>\n",
       "      <td>1.12690</td>\n",
       "      <td>0.79579</td>\n",
       "      <td>0.59609</td>\n",
       "      <td>0.35776</td>\n",
       "      <td>0.37895</td>\n",
       "      <td>2.66465</td>\n",
       "    </tr>\n",
       "    <tr>\n",
       "      <th>4</th>\n",
       "      <td>Finland</td>\n",
       "      <td>Western Europe</td>\n",
       "      <td>5</td>\n",
       "      <td>7.413</td>\n",
       "      <td>7.351</td>\n",
       "      <td>7.475</td>\n",
       "      <td>1.40598</td>\n",
       "      <td>1.13464</td>\n",
       "      <td>0.81091</td>\n",
       "      <td>0.57104</td>\n",
       "      <td>0.41004</td>\n",
       "      <td>0.25492</td>\n",
       "      <td>2.82596</td>\n",
       "    </tr>\n",
       "    <tr>\n",
       "      <th>...</th>\n",
       "      <td>...</td>\n",
       "      <td>...</td>\n",
       "      <td>...</td>\n",
       "      <td>...</td>\n",
       "      <td>...</td>\n",
       "      <td>...</td>\n",
       "      <td>...</td>\n",
       "      <td>...</td>\n",
       "      <td>...</td>\n",
       "      <td>...</td>\n",
       "      <td>...</td>\n",
       "      <td>...</td>\n",
       "      <td>...</td>\n",
       "    </tr>\n",
       "    <tr>\n",
       "      <th>152</th>\n",
       "      <td>Benin</td>\n",
       "      <td>Sub-Saharan Africa</td>\n",
       "      <td>153</td>\n",
       "      <td>3.484</td>\n",
       "      <td>3.404</td>\n",
       "      <td>3.564</td>\n",
       "      <td>0.39499</td>\n",
       "      <td>0.10419</td>\n",
       "      <td>0.21028</td>\n",
       "      <td>0.39747</td>\n",
       "      <td>0.06681</td>\n",
       "      <td>0.20180</td>\n",
       "      <td>2.10812</td>\n",
       "    </tr>\n",
       "    <tr>\n",
       "      <th>153</th>\n",
       "      <td>Afghanistan</td>\n",
       "      <td>Southern Asia</td>\n",
       "      <td>154</td>\n",
       "      <td>3.360</td>\n",
       "      <td>3.288</td>\n",
       "      <td>3.432</td>\n",
       "      <td>0.38227</td>\n",
       "      <td>0.11037</td>\n",
       "      <td>0.17344</td>\n",
       "      <td>0.16430</td>\n",
       "      <td>0.07112</td>\n",
       "      <td>0.31268</td>\n",
       "      <td>2.14558</td>\n",
       "    </tr>\n",
       "    <tr>\n",
       "      <th>154</th>\n",
       "      <td>Togo</td>\n",
       "      <td>Sub-Saharan Africa</td>\n",
       "      <td>155</td>\n",
       "      <td>3.303</td>\n",
       "      <td>3.192</td>\n",
       "      <td>3.414</td>\n",
       "      <td>0.28123</td>\n",
       "      <td>0.00000</td>\n",
       "      <td>0.24811</td>\n",
       "      <td>0.34678</td>\n",
       "      <td>0.11587</td>\n",
       "      <td>0.17517</td>\n",
       "      <td>2.13540</td>\n",
       "    </tr>\n",
       "    <tr>\n",
       "      <th>155</th>\n",
       "      <td>Syria</td>\n",
       "      <td>Middle East and Northern Africa</td>\n",
       "      <td>156</td>\n",
       "      <td>3.069</td>\n",
       "      <td>2.936</td>\n",
       "      <td>3.202</td>\n",
       "      <td>0.74719</td>\n",
       "      <td>0.14866</td>\n",
       "      <td>0.62994</td>\n",
       "      <td>0.06912</td>\n",
       "      <td>0.17233</td>\n",
       "      <td>0.48397</td>\n",
       "      <td>0.81789</td>\n",
       "    </tr>\n",
       "    <tr>\n",
       "      <th>156</th>\n",
       "      <td>Burundi</td>\n",
       "      <td>Sub-Saharan Africa</td>\n",
       "      <td>157</td>\n",
       "      <td>2.905</td>\n",
       "      <td>2.732</td>\n",
       "      <td>3.078</td>\n",
       "      <td>0.06831</td>\n",
       "      <td>0.23442</td>\n",
       "      <td>0.15747</td>\n",
       "      <td>0.04320</td>\n",
       "      <td>0.09419</td>\n",
       "      <td>0.20290</td>\n",
       "      <td>2.10404</td>\n",
       "    </tr>\n",
       "  </tbody>\n",
       "</table>\n",
       "<p>157 rows × 13 columns</p>\n",
       "</div>"
      ],
      "text/plain": [
       "         Country                           Region  Happiness Rank  \\\n",
       "0        Denmark                   Western Europe               1   \n",
       "1    Switzerland                   Western Europe               2   \n",
       "2        Iceland                   Western Europe               3   \n",
       "3         Norway                   Western Europe               4   \n",
       "4        Finland                   Western Europe               5   \n",
       "..           ...                              ...             ...   \n",
       "152        Benin               Sub-Saharan Africa             153   \n",
       "153  Afghanistan                    Southern Asia             154   \n",
       "154         Togo               Sub-Saharan Africa             155   \n",
       "155        Syria  Middle East and Northern Africa             156   \n",
       "156      Burundi               Sub-Saharan Africa             157   \n",
       "\n",
       "     Happiness Score  Lower Confidence Interval  Upper Confidence Interval  \\\n",
       "0              7.526                      7.460                      7.592   \n",
       "1              7.509                      7.428                      7.590   \n",
       "2              7.501                      7.333                      7.669   \n",
       "3              7.498                      7.421                      7.575   \n",
       "4              7.413                      7.351                      7.475   \n",
       "..               ...                        ...                        ...   \n",
       "152            3.484                      3.404                      3.564   \n",
       "153            3.360                      3.288                      3.432   \n",
       "154            3.303                      3.192                      3.414   \n",
       "155            3.069                      2.936                      3.202   \n",
       "156            2.905                      2.732                      3.078   \n",
       "\n",
       "     Economy (GDP per Capita)   Family  Health (Life Expectancy)  Freedom  \\\n",
       "0                     1.44178  1.16374                   0.79504  0.57941   \n",
       "1                     1.52733  1.14524                   0.86303  0.58557   \n",
       "2                     1.42666  1.18326                   0.86733  0.56624   \n",
       "3                     1.57744  1.12690                   0.79579  0.59609   \n",
       "4                     1.40598  1.13464                   0.81091  0.57104   \n",
       "..                        ...      ...                       ...      ...   \n",
       "152                   0.39499  0.10419                   0.21028  0.39747   \n",
       "153                   0.38227  0.11037                   0.17344  0.16430   \n",
       "154                   0.28123  0.00000                   0.24811  0.34678   \n",
       "155                   0.74719  0.14866                   0.62994  0.06912   \n",
       "156                   0.06831  0.23442                   0.15747  0.04320   \n",
       "\n",
       "     Trust (Government Corruption)  Generosity  Dystopia Residual  \n",
       "0                          0.44453     0.36171            2.73939  \n",
       "1                          0.41203     0.28083            2.69463  \n",
       "2                          0.14975     0.47678            2.83137  \n",
       "3                          0.35776     0.37895            2.66465  \n",
       "4                          0.41004     0.25492            2.82596  \n",
       "..                             ...         ...                ...  \n",
       "152                        0.06681     0.20180            2.10812  \n",
       "153                        0.07112     0.31268            2.14558  \n",
       "154                        0.11587     0.17517            2.13540  \n",
       "155                        0.17233     0.48397            0.81789  \n",
       "156                        0.09419     0.20290            2.10404  \n",
       "\n",
       "[157 rows x 13 columns]"
      ]
     },
     "execution_count": 2,
     "metadata": {},
     "output_type": "execute_result"
    }
   ],
   "source": [
    "# read data\n",
    "url = 'https://drive.google.com/file/d/1PcCyXXs28wvhAcatjBqa48hf9JD8_Xqa/view'\n",
    "url='https://drive.google.com/uc?id=' + url.split('/')[-2]\n",
    "df = pd.read_csv(url)\n",
    "df"
   ]
  },
  {
   "cell_type": "markdown",
   "id": "8614331b",
   "metadata": {},
   "source": [
    "### High Level View   "
   ]
  },
  {
   "cell_type": "code",
   "execution_count": 3,
   "id": "06765299",
   "metadata": {},
   "outputs": [
    {
     "data": {
      "text/html": [
       "<div>\n",
       "<style scoped>\n",
       "    .dataframe tbody tr th:only-of-type {\n",
       "        vertical-align: middle;\n",
       "    }\n",
       "\n",
       "    .dataframe tbody tr th {\n",
       "        vertical-align: top;\n",
       "    }\n",
       "\n",
       "    .dataframe thead th {\n",
       "        text-align: right;\n",
       "    }\n",
       "</style>\n",
       "<table border=\"1\" class=\"dataframe\">\n",
       "  <thead>\n",
       "    <tr style=\"text-align: right;\">\n",
       "      <th></th>\n",
       "      <th>Country</th>\n",
       "      <th>Region</th>\n",
       "      <th>Happiness Rank</th>\n",
       "      <th>Happiness Score</th>\n",
       "      <th>Lower Confidence Interval</th>\n",
       "      <th>Upper Confidence Interval</th>\n",
       "      <th>Economy (GDP per Capita)</th>\n",
       "      <th>Family</th>\n",
       "      <th>Health (Life Expectancy)</th>\n",
       "      <th>Freedom</th>\n",
       "      <th>Trust (Government Corruption)</th>\n",
       "      <th>Generosity</th>\n",
       "      <th>Dystopia Residual</th>\n",
       "    </tr>\n",
       "  </thead>\n",
       "  <tbody>\n",
       "    <tr>\n",
       "      <th>0</th>\n",
       "      <td>Denmark</td>\n",
       "      <td>Western Europe</td>\n",
       "      <td>1</td>\n",
       "      <td>7.526</td>\n",
       "      <td>7.460</td>\n",
       "      <td>7.592</td>\n",
       "      <td>1.44178</td>\n",
       "      <td>1.16374</td>\n",
       "      <td>0.79504</td>\n",
       "      <td>0.57941</td>\n",
       "      <td>0.44453</td>\n",
       "      <td>0.36171</td>\n",
       "      <td>2.73939</td>\n",
       "    </tr>\n",
       "    <tr>\n",
       "      <th>1</th>\n",
       "      <td>Switzerland</td>\n",
       "      <td>Western Europe</td>\n",
       "      <td>2</td>\n",
       "      <td>7.509</td>\n",
       "      <td>7.428</td>\n",
       "      <td>7.590</td>\n",
       "      <td>1.52733</td>\n",
       "      <td>1.14524</td>\n",
       "      <td>0.86303</td>\n",
       "      <td>0.58557</td>\n",
       "      <td>0.41203</td>\n",
       "      <td>0.28083</td>\n",
       "      <td>2.69463</td>\n",
       "    </tr>\n",
       "    <tr>\n",
       "      <th>2</th>\n",
       "      <td>Iceland</td>\n",
       "      <td>Western Europe</td>\n",
       "      <td>3</td>\n",
       "      <td>7.501</td>\n",
       "      <td>7.333</td>\n",
       "      <td>7.669</td>\n",
       "      <td>1.42666</td>\n",
       "      <td>1.18326</td>\n",
       "      <td>0.86733</td>\n",
       "      <td>0.56624</td>\n",
       "      <td>0.14975</td>\n",
       "      <td>0.47678</td>\n",
       "      <td>2.83137</td>\n",
       "    </tr>\n",
       "    <tr>\n",
       "      <th>3</th>\n",
       "      <td>Norway</td>\n",
       "      <td>Western Europe</td>\n",
       "      <td>4</td>\n",
       "      <td>7.498</td>\n",
       "      <td>7.421</td>\n",
       "      <td>7.575</td>\n",
       "      <td>1.57744</td>\n",
       "      <td>1.12690</td>\n",
       "      <td>0.79579</td>\n",
       "      <td>0.59609</td>\n",
       "      <td>0.35776</td>\n",
       "      <td>0.37895</td>\n",
       "      <td>2.66465</td>\n",
       "    </tr>\n",
       "    <tr>\n",
       "      <th>4</th>\n",
       "      <td>Finland</td>\n",
       "      <td>Western Europe</td>\n",
       "      <td>5</td>\n",
       "      <td>7.413</td>\n",
       "      <td>7.351</td>\n",
       "      <td>7.475</td>\n",
       "      <td>1.40598</td>\n",
       "      <td>1.13464</td>\n",
       "      <td>0.81091</td>\n",
       "      <td>0.57104</td>\n",
       "      <td>0.41004</td>\n",
       "      <td>0.25492</td>\n",
       "      <td>2.82596</td>\n",
       "    </tr>\n",
       "  </tbody>\n",
       "</table>\n",
       "</div>"
      ],
      "text/plain": [
       "       Country          Region  Happiness Rank  Happiness Score  \\\n",
       "0      Denmark  Western Europe               1            7.526   \n",
       "1  Switzerland  Western Europe               2            7.509   \n",
       "2      Iceland  Western Europe               3            7.501   \n",
       "3       Norway  Western Europe               4            7.498   \n",
       "4      Finland  Western Europe               5            7.413   \n",
       "\n",
       "   Lower Confidence Interval  Upper Confidence Interval  \\\n",
       "0                      7.460                      7.592   \n",
       "1                      7.428                      7.590   \n",
       "2                      7.333                      7.669   \n",
       "3                      7.421                      7.575   \n",
       "4                      7.351                      7.475   \n",
       "\n",
       "   Economy (GDP per Capita)   Family  Health (Life Expectancy)  Freedom  \\\n",
       "0                   1.44178  1.16374                   0.79504  0.57941   \n",
       "1                   1.52733  1.14524                   0.86303  0.58557   \n",
       "2                   1.42666  1.18326                   0.86733  0.56624   \n",
       "3                   1.57744  1.12690                   0.79579  0.59609   \n",
       "4                   1.40598  1.13464                   0.81091  0.57104   \n",
       "\n",
       "   Trust (Government Corruption)  Generosity  Dystopia Residual  \n",
       "0                        0.44453     0.36171            2.73939  \n",
       "1                        0.41203     0.28083            2.69463  \n",
       "2                        0.14975     0.47678            2.83137  \n",
       "3                        0.35776     0.37895            2.66465  \n",
       "4                        0.41004     0.25492            2.82596  "
      ]
     },
     "execution_count": 3,
     "metadata": {},
     "output_type": "execute_result"
    }
   ],
   "source": [
    "# view head\n",
    "df.head()"
   ]
  },
  {
   "cell_type": "code",
   "execution_count": 4,
   "id": "1d2f9909",
   "metadata": {},
   "outputs": [
    {
     "data": {
      "text/plain": [
       "(157, 13)"
      ]
     },
     "execution_count": 4,
     "metadata": {},
     "output_type": "execute_result"
    }
   ],
   "source": [
    "# get shape\n",
    "df.shape"
   ]
  },
  {
   "cell_type": "markdown",
   "id": "ef7a12d9",
   "metadata": {},
   "source": [
    "This dataset contains information on the happiness and other factors that affect the happiness of each country. From the shape of the dataset, we see a total of 157 rows and 13 columns, meaning we are examing 157 different countries, each ranked 1-157. The data contains mostly numerical data with only two columns containing string data. This data gives us vital information for each of the fields that scientists can use to compare the different countries or to explore the relationship and effect between the fields."
   ]
  },
  {
   "cell_type": "markdown",
   "id": "9fdc9631",
   "metadata": {},
   "source": [
    "### Preliminary Exploration"
   ]
  },
  {
   "cell_type": "markdown",
   "id": "d80558c8",
   "metadata": {},
   "source": [
    "First we are going to comb through the dataset to find null values, or missing data, that may affect our data and distributions along with any future calculations. "
   ]
  },
  {
   "cell_type": "code",
   "execution_count": 5,
   "id": "41e85a68",
   "metadata": {},
   "outputs": [
    {
     "data": {
      "text/plain": [
       "Country                          0\n",
       "Region                           0\n",
       "Happiness Rank                   0\n",
       "Happiness Score                  0\n",
       "Lower Confidence Interval        0\n",
       "Upper Confidence Interval        0\n",
       "Economy (GDP per Capita)         0\n",
       "Family                           0\n",
       "Health (Life Expectancy)         0\n",
       "Freedom                          0\n",
       "Trust (Government Corruption)    0\n",
       "Generosity                       0\n",
       "Dystopia Residual                0\n",
       "dtype: int64"
      ]
     },
     "execution_count": 5,
     "metadata": {},
     "output_type": "execute_result"
    }
   ],
   "source": [
    "# check for null values in each column\n",
    "df.isnull().sum()"
   ]
  },
  {
   "cell_type": "markdown",
   "id": "ec9ca255",
   "metadata": {},
   "source": [
    "The results show that there are no null or missing values that we need to worry about removing or addressing. The next step is to look at the descriptive statistics of our data for each column with integer values to see basic information about the distribution, central tendency, and variability for that field. "
   ]
  },
  {
   "cell_type": "code",
   "execution_count": 6,
   "id": "60081f6b",
   "metadata": {},
   "outputs": [
    {
     "data": {
      "text/html": [
       "<div>\n",
       "<style scoped>\n",
       "    .dataframe tbody tr th:only-of-type {\n",
       "        vertical-align: middle;\n",
       "    }\n",
       "\n",
       "    .dataframe tbody tr th {\n",
       "        vertical-align: top;\n",
       "    }\n",
       "\n",
       "    .dataframe thead th {\n",
       "        text-align: right;\n",
       "    }\n",
       "</style>\n",
       "<table border=\"1\" class=\"dataframe\">\n",
       "  <thead>\n",
       "    <tr style=\"text-align: right;\">\n",
       "      <th></th>\n",
       "      <th>Happiness Score</th>\n",
       "      <th>Lower Confidence Interval</th>\n",
       "      <th>Upper Confidence Interval</th>\n",
       "      <th>Economy (GDP per Capita)</th>\n",
       "      <th>Family</th>\n",
       "      <th>Health (Life Expectancy)</th>\n",
       "      <th>Freedom</th>\n",
       "      <th>Trust (Government Corruption)</th>\n",
       "      <th>Generosity</th>\n",
       "      <th>Dystopia Residual</th>\n",
       "    </tr>\n",
       "  </thead>\n",
       "  <tbody>\n",
       "    <tr>\n",
       "      <th>count</th>\n",
       "      <td>157.000000</td>\n",
       "      <td>157.000000</td>\n",
       "      <td>157.000000</td>\n",
       "      <td>157.000000</td>\n",
       "      <td>157.000000</td>\n",
       "      <td>157.000000</td>\n",
       "      <td>157.000000</td>\n",
       "      <td>157.000000</td>\n",
       "      <td>157.000000</td>\n",
       "      <td>157.000000</td>\n",
       "    </tr>\n",
       "    <tr>\n",
       "      <th>mean</th>\n",
       "      <td>5.382185</td>\n",
       "      <td>5.282395</td>\n",
       "      <td>5.481975</td>\n",
       "      <td>0.953880</td>\n",
       "      <td>0.793621</td>\n",
       "      <td>0.557619</td>\n",
       "      <td>0.370994</td>\n",
       "      <td>0.137624</td>\n",
       "      <td>0.242635</td>\n",
       "      <td>2.325807</td>\n",
       "    </tr>\n",
       "    <tr>\n",
       "      <th>std</th>\n",
       "      <td>1.141674</td>\n",
       "      <td>1.148043</td>\n",
       "      <td>1.136493</td>\n",
       "      <td>0.412595</td>\n",
       "      <td>0.266706</td>\n",
       "      <td>0.229349</td>\n",
       "      <td>0.145507</td>\n",
       "      <td>0.111038</td>\n",
       "      <td>0.133756</td>\n",
       "      <td>0.542220</td>\n",
       "    </tr>\n",
       "    <tr>\n",
       "      <th>min</th>\n",
       "      <td>2.905000</td>\n",
       "      <td>2.732000</td>\n",
       "      <td>3.078000</td>\n",
       "      <td>0.000000</td>\n",
       "      <td>0.000000</td>\n",
       "      <td>0.000000</td>\n",
       "      <td>0.000000</td>\n",
       "      <td>0.000000</td>\n",
       "      <td>0.000000</td>\n",
       "      <td>0.817890</td>\n",
       "    </tr>\n",
       "    <tr>\n",
       "      <th>25%</th>\n",
       "      <td>4.404000</td>\n",
       "      <td>4.327000</td>\n",
       "      <td>4.465000</td>\n",
       "      <td>0.670240</td>\n",
       "      <td>0.641840</td>\n",
       "      <td>0.382910</td>\n",
       "      <td>0.257480</td>\n",
       "      <td>0.061260</td>\n",
       "      <td>0.154570</td>\n",
       "      <td>2.031710</td>\n",
       "    </tr>\n",
       "    <tr>\n",
       "      <th>50%</th>\n",
       "      <td>5.314000</td>\n",
       "      <td>5.237000</td>\n",
       "      <td>5.419000</td>\n",
       "      <td>1.027800</td>\n",
       "      <td>0.841420</td>\n",
       "      <td>0.596590</td>\n",
       "      <td>0.397470</td>\n",
       "      <td>0.105470</td>\n",
       "      <td>0.222450</td>\n",
       "      <td>2.290740</td>\n",
       "    </tr>\n",
       "    <tr>\n",
       "      <th>75%</th>\n",
       "      <td>6.269000</td>\n",
       "      <td>6.154000</td>\n",
       "      <td>6.434000</td>\n",
       "      <td>1.279640</td>\n",
       "      <td>1.021520</td>\n",
       "      <td>0.729930</td>\n",
       "      <td>0.484530</td>\n",
       "      <td>0.175540</td>\n",
       "      <td>0.311850</td>\n",
       "      <td>2.664650</td>\n",
       "    </tr>\n",
       "    <tr>\n",
       "      <th>max</th>\n",
       "      <td>7.526000</td>\n",
       "      <td>7.460000</td>\n",
       "      <td>7.669000</td>\n",
       "      <td>1.824270</td>\n",
       "      <td>1.183260</td>\n",
       "      <td>0.952770</td>\n",
       "      <td>0.608480</td>\n",
       "      <td>0.505210</td>\n",
       "      <td>0.819710</td>\n",
       "      <td>3.837720</td>\n",
       "    </tr>\n",
       "  </tbody>\n",
       "</table>\n",
       "</div>"
      ],
      "text/plain": [
       "       Happiness Score  Lower Confidence Interval  Upper Confidence Interval  \\\n",
       "count       157.000000                 157.000000                 157.000000   \n",
       "mean          5.382185                   5.282395                   5.481975   \n",
       "std           1.141674                   1.148043                   1.136493   \n",
       "min           2.905000                   2.732000                   3.078000   \n",
       "25%           4.404000                   4.327000                   4.465000   \n",
       "50%           5.314000                   5.237000                   5.419000   \n",
       "75%           6.269000                   6.154000                   6.434000   \n",
       "max           7.526000                   7.460000                   7.669000   \n",
       "\n",
       "       Economy (GDP per Capita)      Family  Health (Life Expectancy)  \\\n",
       "count                157.000000  157.000000                157.000000   \n",
       "mean                   0.953880    0.793621                  0.557619   \n",
       "std                    0.412595    0.266706                  0.229349   \n",
       "min                    0.000000    0.000000                  0.000000   \n",
       "25%                    0.670240    0.641840                  0.382910   \n",
       "50%                    1.027800    0.841420                  0.596590   \n",
       "75%                    1.279640    1.021520                  0.729930   \n",
       "max                    1.824270    1.183260                  0.952770   \n",
       "\n",
       "          Freedom  Trust (Government Corruption)  Generosity  \\\n",
       "count  157.000000                     157.000000  157.000000   \n",
       "mean     0.370994                       0.137624    0.242635   \n",
       "std      0.145507                       0.111038    0.133756   \n",
       "min      0.000000                       0.000000    0.000000   \n",
       "25%      0.257480                       0.061260    0.154570   \n",
       "50%      0.397470                       0.105470    0.222450   \n",
       "75%      0.484530                       0.175540    0.311850   \n",
       "max      0.608480                       0.505210    0.819710   \n",
       "\n",
       "       Dystopia Residual  \n",
       "count         157.000000  \n",
       "mean            2.325807  \n",
       "std             0.542220  \n",
       "min             0.817890  \n",
       "25%             2.031710  \n",
       "50%             2.290740  \n",
       "75%             2.664650  \n",
       "max             3.837720  "
      ]
     },
     "execution_count": 6,
     "metadata": {},
     "output_type": "execute_result"
    }
   ],
   "source": [
    "# describe column\n",
    "# exclude happiness rank as it is a label\n",
    "df.iloc[:,3:].describe()"
   ]
  },
  {
   "cell_type": "code",
   "execution_count": 7,
   "id": "42508a5d",
   "metadata": {},
   "outputs": [
    {
     "name": "stdout",
     "output_type": "stream",
     "text": [
      "<class 'pandas.core.frame.DataFrame'>\n",
      "RangeIndex: 157 entries, 0 to 156\n",
      "Data columns (total 13 columns):\n",
      " #   Column                         Non-Null Count  Dtype  \n",
      "---  ------                         --------------  -----  \n",
      " 0   Country                        157 non-null    object \n",
      " 1   Region                         157 non-null    object \n",
      " 2   Happiness Rank                 157 non-null    int64  \n",
      " 3   Happiness Score                157 non-null    float64\n",
      " 4   Lower Confidence Interval      157 non-null    float64\n",
      " 5   Upper Confidence Interval      157 non-null    float64\n",
      " 6   Economy (GDP per Capita)       157 non-null    float64\n",
      " 7   Family                         157 non-null    float64\n",
      " 8   Health (Life Expectancy)       157 non-null    float64\n",
      " 9   Freedom                        157 non-null    float64\n",
      " 10  Trust (Government Corruption)  157 non-null    float64\n",
      " 11  Generosity                     157 non-null    float64\n",
      " 12  Dystopia Residual              157 non-null    float64\n",
      "dtypes: float64(10), int64(1), object(2)\n",
      "memory usage: 16.1+ KB\n"
     ]
    }
   ],
   "source": [
    "# get info\n",
    "df.info()"
   ]
  },
  {
   "cell_type": "markdown",
   "id": "ef00edf3",
   "metadata": {},
   "source": [
    "After inspecting the descriptive statistics and the data types, we saw that there was no issue with the values and no blatant issues. Next, we also want to visualize the data distribution in its raw form. We use histograms to view the data density and observe potential outliers. "
   ]
  },
  {
   "cell_type": "code",
   "execution_count": 8,
   "id": "c76a4f15",
   "metadata": {},
   "outputs": [
    {
     "data": {
      "text/plain": [
       "[Text(0.5, 1.0, 'Dystopia Residual')]"
      ]
     },
     "execution_count": 8,
     "metadata": {},
     "output_type": "execute_result"
    },
    {
     "data": {
      "image/png": "[encoded data removed]",
      "text/plain": [
       "<Figure size 1440x360 with 10 Axes>"
      ]
     },
     "metadata": {
      "needs_background": "light"
     },
     "output_type": "display_data"
    }
   ],
   "source": [
    "#Run this cell\n",
    "fig, axes = plt.subplots(2, 5, figsize=(20, 5))\n",
    "\n",
    "sns.histplot(data=df['Happiness Score'], ax=axes[0,0])\n",
    "axes[0,0].set(xlabel='', ylabel= '')\n",
    "axes[0,0].set(title = \"Happiness Score\")\n",
    "sns.histplot(data=df['Lower Confidence Interval'], ax=axes[0,1])\n",
    "axes[0,1].set(xlabel='', ylabel= '')\n",
    "axes[0,1].set(title = \"Lower Confidence Interval\")\n",
    "sns.histplot(data=df['Upper Confidence Interval'], ax=axes[0,2])\n",
    "axes[0,2].set(xlabel='', ylabel= '')\n",
    "axes[0,2].set(title = \"Upper Confidence Interval\")\n",
    "sns.histplot(data=df['Economy (GDP per Capita)'], ax=axes[0,3])\n",
    "axes[0,3].set(xlabel='', ylabel= '')\n",
    "axes[0,3].set(title = \"Economy (GDP per Capita)\")\n",
    "sns.histplot(data=df['Family'], ax=axes[0, 4])\n",
    "axes[0, 4].set(xlabel='', ylabel= '')\n",
    "axes[0, 4].set(title = \"Family\")\n",
    "\n",
    "fig.tight_layout(pad=2.0)\n",
    "\n",
    "sns.histplot(data=df['Health (Life Expectancy)'], ax=axes[1, 0])\n",
    "axes[1, 0].set(xlabel='', ylabel= '')\n",
    "axes[1, 0].set(title = \"Health (Life Expectancy)\")\n",
    "sns.histplot(data=df['Freedom'], ax=axes[1,1])\n",
    "axes[1, 1].set(xlabel='', ylabel= '')\n",
    "axes[1, 1].set(title = \"Freedom\")\n",
    "sns.histplot(data=df['Trust (Government Corruption)'], ax=axes[1,2])\n",
    "axes[1, 2].set(xlabel='', ylabel= '')\n",
    "axes[1, 2].set(title = \"Trust (Government Corruption)\")\n",
    "sns.histplot(data=df['Generosity'], ax=axes[1,3])\n",
    "axes[1, 3].set(xlabel='', ylabel= '')\n",
    "axes[1, 3].set(title = \"Generosity\")\n",
    "sns.histplot(data=df['Dystopia Residual'], ax=axes[1,4])\n",
    "axes[1, 4].set(xlabel='', ylabel= '')\n",
    "axes[1, 4].set(title = \"Dystopia Residual\")"
   ]
  },
  {
   "cell_type": "code",
   "execution_count": 9,
   "id": "dda2e31a",
   "metadata": {},
   "outputs": [
    {
     "data": {
      "image/png": "[encoded data removed]",
      "text/plain": [
       "<Figure size 432x288 with 1 Axes>"
      ]
     },
     "metadata": {
      "needs_background": "light"
     },
     "output_type": "display_data"
    }
   ],
   "source": [
    "ax = sns.histplot(data=df['Region'])\n",
    "ax.set(xlabel='', ylabel= '')\n",
    "ax.set(title = \"Region\")\n",
    "ax.tick_params(axis='x', rotation=90)"
   ]
  },
  {
   "cell_type": "markdown",
   "id": "931ae8e2",
   "metadata": {},
   "source": [
    "From these histograms, we are able to see the various distributions, with only the Generosity distribution containing an outlier. However, we do not want to remove the whole row because each row is a unique country and doing so would cause us to lose vital information on that country. As such, for calculations involving generosity, we need to be aware that the data is slightly skewed."
   ]
  },
  {
   "cell_type": "markdown",
   "id": "f02881b8",
   "metadata": {},
   "source": [
    "### Defining objectives"
   ]
  },
  {
   "cell_type": "markdown",
   "id": "33c4ac5e",
   "metadata": {},
   "source": [
    "How does the distribution of happiness rank vary by region?\n",
    "\n",
    "What is the relationship between Happiness Score, Economy (GDP per Capita), Health (Life Expectancy), and Freedom?\n",
    "\n",
    "On average, how does Happiness Score, Economy (GDP per Capita), Health (Life Expectancy), and Freedom vary by region?"
   ]
  },
  {
   "cell_type": "markdown",
   "id": "57deb282",
   "metadata": {},
   "source": [
    "### Present Your Findings"
   ]
  },
  {
   "cell_type": "markdown",
   "id": "44adf7a8",
   "metadata": {},
   "source": [
    "#### Findings 1"
   ]
  },
  {
   "cell_type": "markdown",
   "id": "8f4052a9",
   "metadata": {},
   "source": [
    "First, we will be inspecting the distribution of happiness rank by region. To examine the distribution of happiness rank, we make a boxplot where we can easily examine the distribution of numeric data amongst the regions. This plot tells us key information on the range of the scores the region contains along with the median. "
   ]
  },
  {
   "cell_type": "code",
   "execution_count": 10,
   "id": "a0a098ed",
   "metadata": {},
   "outputs": [
    {
     "data": {
      "text/plain": [
       "Text(0.5, 1.0, 'Distribution of Happiness Rank by Region')"
      ]
     },
     "execution_count": 10,
     "metadata": {},
     "output_type": "execute_result"
    },
    {
     "data": {
      "image/png": "[encoded data removed]",
      "text/plain": [
       "<Figure size 432x288 with 1 Axes>"
      ]
     },
     "metadata": {
      "needs_background": "light"
     },
     "output_type": "display_data"
    }
   ],
   "source": [
    "# create boxplot\n",
    "ax = sns.boxplot(data=df, x = 'Region', y = 'Happiness Rank')\n",
    "ax.tick_params(axis='x', rotation=90)\n",
    "ax.set_title('Distribution of Happiness Rank by Region')"
   ]
  },
  {
   "cell_type": "markdown",
   "id": "b60546d1",
   "metadata": {},
   "source": [
    "We also want to examine the amount of countries within each region to make better sense of the distribution and see the reason some of these distributions are small such as north america and australia and new zealand. "
   ]
  },
  {
   "cell_type": "code",
   "execution_count": 11,
   "id": "ed63c7e0",
   "metadata": {},
   "outputs": [
    {
     "name": "stdout",
     "output_type": "stream",
     "text": [
      "Western Europe: 21 countries\n",
      "North America: 2 countries\n",
      "Australia and New Zealand: 2 countries\n",
      "Middle East and Northern Africa: 19 countries\n",
      "Latin America and Caribbean: 24 countries\n",
      "Southeastern Asia: 9 countries\n",
      "Central and Eastern Europe: 29 countries\n",
      "Eastern Asia: 6 countries\n",
      "Sub-Saharan Africa: 38 countries\n",
      "Southern Asia: 7 countries\n"
     ]
    }
   ],
   "source": [
    "# print number of countries in each region\n",
    "print('Western Europe: ' + str(len(df[df['Region'] == 'Western Europe'])) + ' countries')\n",
    "print('North America: ' + str(len(df[df['Region'] == 'North America'])) + ' countries')\n",
    "print('Australia and New Zealand: ' + str(len(df[df['Region'] == 'Australia and New Zealand'])) + ' countries')\n",
    "print('Middle East and Northern Africa: ' + str(len(df[df['Region'] == 'Middle East and Northern Africa'])) + ' countries')\n",
    "print('Latin America and Caribbean: ' + str(len(df[df['Region'] == 'Latin America and Caribbean'])) + ' countries')\n",
    "print('Southeastern Asia: ' + str(len(df[df['Region'] == 'Southeastern Asia'])) + ' countries')\n",
    "print('Central and Eastern Europe: ' + str(len(df[df['Region'] == 'Central and Eastern Europe'])) + ' countries')\n",
    "print('Eastern Asia: ' + str(len(df[df['Region'] == 'Eastern Asia'])) + ' countries')\n",
    "print('Sub-Saharan Africa: ' + str(len(df[df['Region'] == 'Sub-Saharan Africa'])) + ' countries')\n",
    "print('Southern Asia: ' + str(len(df[df['Region'] == 'Southern Asia'])) + ' countries')"
   ]
  },
  {
   "cell_type": "markdown",
   "id": "fb01063f",
   "metadata": {},
   "source": [
    "From the boxplot and the number of countries in each region, we see that the Western Europe Region has the highest distribution of Happiness Rank while the Sub-Saharan Africa Region has the lowest distribution of Happiness Rank. Both the distrbution of North America and Australia and New Zealand are very small due to the little amount of countries within them, however, they are still second and third place in having countries with the highest Happiness Rank. It is interesting to note that the Middle East and Northern Africa Region has the most variability in the distribution of Happiness Ranks and the Southern Asia Region has the least variability in the distribution of Happiness Ranks. It is important to note that due to the small number of countries within some of the regions, these observations are not generalizable to the whole region. With more data and countries within the regions, we will be able to have more accurate and representative data for the region that we can draw conclusions from."
   ]
  },
  {
   "cell_type": "markdown",
   "id": "5206230f",
   "metadata": {},
   "source": [
    "#### Findings 2"
   ]
  },
  {
   "cell_type": "markdown",
   "id": "f3cd8639",
   "metadata": {},
   "source": [
    "Next, we will explore the relationship between Happiness Score, Economy (GDP per Capita), Health (Life Expectancy), and Freedom. To do so, we need to find the correlation between them and use a correlation heatmap for a easy-to-read visualization that will depict the correlations between the variables and the strength of their relation."
   ]
  },
  {
   "cell_type": "code",
   "execution_count": 12,
   "id": "24e70814",
   "metadata": {},
   "outputs": [],
   "source": [
    "# store columns in new dataframe\n",
    "rel = df[['Happiness Score', 'Economy (GDP per Capita)', 'Health (Life Expectancy)','Freedom']]"
   ]
  },
  {
   "cell_type": "code",
   "execution_count": 1,
   "id": "3c0124e5",
   "metadata": {
    "scrolled": false
   },
   "outputs": [
    {
     "ename": "NameError",
     "evalue": "name 'plt' is not defined",
     "output_type": "error",
     "traceback": [
      "\u001b[1;31m---------------------------------------------------------------------------\u001b[0m",
      "\u001b[1;31mNameError\u001b[0m                                 Traceback (most recent call last)",
      "Input \u001b[1;32mIn [1]\u001b[0m, in \u001b[0;36m<cell line: 2>\u001b[1;34m()\u001b[0m\n\u001b[0;32m      1\u001b[0m \u001b[38;5;66;03m# create heatmap\u001b[39;00m\n\u001b[1;32m----> 2\u001b[0m \u001b[43mplt\u001b[49m\u001b[38;5;241m.\u001b[39mfigure(figsize\u001b[38;5;241m=\u001b[39m(\u001b[38;5;241m12\u001b[39m, \u001b[38;5;241m10\u001b[39m))\n\u001b[0;32m      3\u001b[0m ax \u001b[38;5;241m=\u001b[39m sns\u001b[38;5;241m.\u001b[39mheatmap(rel\u001b[38;5;241m.\u001b[39mcorr(),annot\u001b[38;5;241m=\u001b[39m\u001b[38;5;28;01mTrue\u001b[39;00m,linewidths\u001b[38;5;241m=\u001b[39m\u001b[38;5;241m0.5\u001b[39m)\n\u001b[0;32m      4\u001b[0m ax\u001b[38;5;241m.\u001b[39mset_title(\u001b[38;5;124m'\u001b[39m\u001b[38;5;124mHeatmap between happiness, economy, health, and freedom\u001b[39m\u001b[38;5;124m'\u001b[39m)\n",
      "\u001b[1;31mNameError\u001b[0m: name 'plt' is not defined"
     ]
    }
   ],
   "source": [
    "# create heatmap\n",
    "plt.figure(figsize=(8,6))\n",
    "ax = sns.heatmap(rel.corr(),annot=True,linewidths=0.5)\n",
    "ax.set_title('Heatmap between happiness, economy, health, and freedom')"
   ]
  },
  {
   "cell_type": "markdown",
   "id": "5e296942",
   "metadata": {},
   "source": [
    "From this plot, we are able to see that the higher the value is, the stronger the correlation between the topics. For our plot, we see that there are no negaive correlations, i.e., negative values, and only strong and weak positive correlations. It is evident that the economy has the highest correlation with health with a correlation of 0.84, meaning these variables are proportional and directly related. Similarly, the economy has the highest correlation with the happiness score with a correlation of 0.79. Overall, it is evident that all of these variables are positively correlated with freedom having the weakest positive correlation to the other variables."
   ]
  },
  {
   "cell_type": "markdown",
   "id": "147f5a76",
   "metadata": {},
   "source": [
    "#### Findings 3"
   ]
  },
  {
   "cell_type": "markdown",
   "id": "c9e793e3",
   "metadata": {},
   "source": [
    "Lastly, we want to examine how the average values for happiness score, economy, health, and freedom vary by region. To do so, we need to make a new dataframe where we group the data by region, aggregate the mean for each of the four columns, and sort by happiness score.  "
   ]
  },
  {
   "cell_type": "code",
   "execution_count": 14,
   "id": "4a6003cf",
   "metadata": {},
   "outputs": [
    {
     "data": {
      "text/html": [
       "<div>\n",
       "<style scoped>\n",
       "    .dataframe tbody tr th:only-of-type {\n",
       "        vertical-align: middle;\n",
       "    }\n",
       "\n",
       "    .dataframe tbody tr th {\n",
       "        vertical-align: top;\n",
       "    }\n",
       "\n",
       "    .dataframe thead th {\n",
       "        text-align: right;\n",
       "    }\n",
       "</style>\n",
       "<table border=\"1\" class=\"dataframe\">\n",
       "  <thead>\n",
       "    <tr style=\"text-align: right;\">\n",
       "      <th></th>\n",
       "      <th>Region</th>\n",
       "      <th>Happiness Score</th>\n",
       "      <th>Economy (GDP per Capita)</th>\n",
       "      <th>Health (Life Expectancy)</th>\n",
       "      <th>Freedom</th>\n",
       "    </tr>\n",
       "  </thead>\n",
       "  <tbody>\n",
       "    <tr>\n",
       "      <th>0</th>\n",
       "      <td>Australia and New Zealand</td>\n",
       "      <td>7.323500</td>\n",
       "      <td>1.402545</td>\n",
       "      <td>0.841080</td>\n",
       "      <td>0.574920</td>\n",
       "    </tr>\n",
       "    <tr>\n",
       "      <th>1</th>\n",
       "      <td>North America</td>\n",
       "      <td>7.254000</td>\n",
       "      <td>1.474055</td>\n",
       "      <td>0.803300</td>\n",
       "      <td>0.527665</td>\n",
       "    </tr>\n",
       "    <tr>\n",
       "      <th>2</th>\n",
       "      <td>Western Europe</td>\n",
       "      <td>6.685667</td>\n",
       "      <td>1.417056</td>\n",
       "      <td>0.825754</td>\n",
       "      <td>0.477587</td>\n",
       "    </tr>\n",
       "    <tr>\n",
       "      <th>3</th>\n",
       "      <td>Latin America and Caribbean</td>\n",
       "      <td>6.101750</td>\n",
       "      <td>0.993410</td>\n",
       "      <td>0.612703</td>\n",
       "      <td>0.426646</td>\n",
       "    </tr>\n",
       "    <tr>\n",
       "      <th>4</th>\n",
       "      <td>Eastern Asia</td>\n",
       "      <td>5.624167</td>\n",
       "      <td>1.277312</td>\n",
       "      <td>0.806680</td>\n",
       "      <td>0.387282</td>\n",
       "    </tr>\n",
       "    <tr>\n",
       "      <th>5</th>\n",
       "      <td>Middle East and Northern Africa</td>\n",
       "      <td>5.386053</td>\n",
       "      <td>1.139323</td>\n",
       "      <td>0.616438</td>\n",
       "      <td>0.309769</td>\n",
       "    </tr>\n",
       "    <tr>\n",
       "      <th>6</th>\n",
       "      <td>Central and Eastern Europe</td>\n",
       "      <td>5.370690</td>\n",
       "      <td>1.047537</td>\n",
       "      <td>0.631592</td>\n",
       "      <td>0.300528</td>\n",
       "    </tr>\n",
       "    <tr>\n",
       "      <th>7</th>\n",
       "      <td>Southeastern Asia</td>\n",
       "      <td>5.338889</td>\n",
       "      <td>0.896381</td>\n",
       "      <td>0.561369</td>\n",
       "      <td>0.490123</td>\n",
       "    </tr>\n",
       "    <tr>\n",
       "      <th>8</th>\n",
       "      <td>Southern Asia</td>\n",
       "      <td>4.563286</td>\n",
       "      <td>0.660671</td>\n",
       "      <td>0.453670</td>\n",
       "      <td>0.350026</td>\n",
       "    </tr>\n",
       "    <tr>\n",
       "      <th>9</th>\n",
       "      <td>Sub-Saharan Africa</td>\n",
       "      <td>4.136421</td>\n",
       "      <td>0.474321</td>\n",
       "      <td>0.239872</td>\n",
       "      <td>0.315424</td>\n",
       "    </tr>\n",
       "  </tbody>\n",
       "</table>\n",
       "</div>"
      ],
      "text/plain": [
       "                            Region  Happiness Score  Economy (GDP per Capita)  \\\n",
       "0        Australia and New Zealand         7.323500                  1.402545   \n",
       "1                    North America         7.254000                  1.474055   \n",
       "2                   Western Europe         6.685667                  1.417056   \n",
       "3      Latin America and Caribbean         6.101750                  0.993410   \n",
       "4                     Eastern Asia         5.624167                  1.277312   \n",
       "5  Middle East and Northern Africa         5.386053                  1.139323   \n",
       "6       Central and Eastern Europe         5.370690                  1.047537   \n",
       "7                Southeastern Asia         5.338889                  0.896381   \n",
       "8                    Southern Asia         4.563286                  0.660671   \n",
       "9               Sub-Saharan Africa         4.136421                  0.474321   \n",
       "\n",
       "   Health (Life Expectancy)   Freedom  \n",
       "0                  0.841080  0.574920  \n",
       "1                  0.803300  0.527665  \n",
       "2                  0.825754  0.477587  \n",
       "3                  0.612703  0.426646  \n",
       "4                  0.806680  0.387282  \n",
       "5                  0.616438  0.309769  \n",
       "6                  0.631592  0.300528  \n",
       "7                  0.561369  0.490123  \n",
       "8                  0.453670  0.350026  \n",
       "9                  0.239872  0.315424  "
      ]
     },
     "execution_count": 14,
     "metadata": {},
     "output_type": "execute_result"
    }
   ],
   "source": [
    "# create new dataframe from aggregated data\n",
    "df1 = df.groupby('Region').agg('mean').drop(columns=['Happiness Rank','Lower Confidence Interval', 'Upper Confidence Interval',\n",
    "                                               'Family', 'Trust (Government Corruption)','Generosity','Dystopia Residual']).sort_values(by='Happiness Score', ascending=False).reset_index()\n",
    "df1"
   ]
  },
  {
   "cell_type": "markdown",
   "id": "963e46bb",
   "metadata": {},
   "source": [
    "After creating and viewing our dataframe, we see a general trend from the values that as happiness score decreases, so does economy, health and freedom. Of course there are a few exceptions, such as when North America has a higher economy than Australia and New Zealand even though it has a lower happiness score, but the overall trend is still evident. Seeing the data in its raw form does give us valuable information however, we want to get a better look at the values visually and so we will create bar charts for each of the columns as they have specific values and not ranges. We cannot put all of the columns into one bar chart as the values would look very exaggerated given that happiness goes up to 7.3 and health is as low as 0.24. "
   ]
  },
  {
   "cell_type": "code",
   "execution_count": 15,
   "id": "d84c01af",
   "metadata": {
    "scrolled": false
   },
   "outputs": [
    {
     "data": {
      "image/png": "[encoded data removed]",
      "text/plain": [
       "<Figure size 720x576 with 4 Axes>"
      ]
     },
     "metadata": {
      "needs_background": "light"
     },
     "output_type": "display_data"
    }
   ],
   "source": [
    "# create barplots\n",
    "fig, axes = plt.subplots(2, 2, figsize=(10,8))\n",
    "fig.tight_layout(h_pad=20, w_pad= 5)\n",
    "\n",
    "sns.barplot(data=df1, x='Region', y='Happiness Score', ax=axes[0,0])\n",
    "axes[0,0].set(title = \"Happiness Score by Region\")\n",
    "axes[0,0].tick_params(axis='x', rotation=90)\n",
    "\n",
    "sns.barplot(data=df1, x='Region', y='Economy (GDP per Capita)', ax=axes[0,1])\n",
    "axes[0,1].set(title = \"Economy by Region\")\n",
    "axes[0,1].tick_params(axis='x', rotation=90)\n",
    "\n",
    "sns.barplot(data=df1, x='Region', y='Health (Life Expectancy)', ax=axes[1,0])\n",
    "axes[1,0].set(title = \"Health by Region\")\n",
    "axes[1,0].tick_params(axis='x', rotation=90)\n",
    "\n",
    "sns.barplot(data=df1, x='Region', y='Freedom', ax=axes[1,1])\n",
    "axes[1,1].set(title = \"Freedom by Region\")\n",
    "axes[1,1].tick_params(axis='x', rotation=90)"
   ]
  },
  {
   "cell_type": "markdown",
   "id": "b0568349",
   "metadata": {},
   "source": [
    "We also want to examine the amount of countries within each region to make better sense of the averages. "
   ]
  },
  {
   "cell_type": "code",
   "execution_count": 16,
   "id": "8b328c40",
   "metadata": {},
   "outputs": [
    {
     "name": "stdout",
     "output_type": "stream",
     "text": [
      "Western Europe: 21 countries\n",
      "North America: 2 countries\n",
      "Australia and New Zealand: 2 countries\n",
      "Middle East and Northern Africa: 19 countries\n",
      "Latin America and Caribbean: 24 countries\n",
      "Southeastern Asia: 9 countries\n",
      "Central and Eastern Europe: 29 countries\n",
      "Eastern Asia: 6 countries\n",
      "Sub-Saharan Africa: 38 countries\n",
      "Southern Asia: 7 countries\n"
     ]
    }
   ],
   "source": [
    "# print number of countries in each region\n",
    "print('Western Europe: ' + str(len(df[df['Region'] == 'Western Europe'])) + ' countries')\n",
    "print('North America: ' + str(len(df[df['Region'] == 'North America'])) + ' countries')\n",
    "print('Australia and New Zealand: ' + str(len(df[df['Region'] == 'Australia and New Zealand'])) + ' countries')\n",
    "print('Middle East and Northern Africa: ' + str(len(df[df['Region'] == 'Middle East and Northern Africa'])) + ' countries')\n",
    "print('Latin America and Caribbean: ' + str(len(df[df['Region'] == 'Latin America and Caribbean'])) + ' countries')\n",
    "print('Southeastern Asia: ' + str(len(df[df['Region'] == 'Southeastern Asia'])) + ' countries')\n",
    "print('Central and Eastern Europe: ' + str(len(df[df['Region'] == 'Central and Eastern Europe'])) + ' countries')\n",
    "print('Eastern Asia: ' + str(len(df[df['Region'] == 'Eastern Asia'])) + ' countries')\n",
    "print('Sub-Saharan Africa: ' + str(len(df[df['Region'] == 'Sub-Saharan Africa'])) + ' countries')\n",
    "print('Southern Asia: ' + str(len(df[df['Region'] == 'Southern Asia'])) + ' countries')"
   ]
  },
  {
   "cell_type": "markdown",
   "id": "05ad9838",
   "metadata": {},
   "source": [
    "From the bar charts, we see that the same trend is still present and we have a better idea of the averages between happiness score, economy, health, and freedom by region. On average, regions with a higher happiness score also tend to have higher economy, health, and freedom. With these visuals, we see key exceptions to the trend such as the economy in Latin America and Caribbean, the health in Eastern Asia, and the freedom in Southeasetern Asia. It is important to note that North America and Australia and New Zealand have very few countries and have high scores, leading their average to be extremely high compared to other countries. As stated in the first finding, this is an important observation as it may not be generalizable to the whole region until we have more data for these regions. Seeing these exceptions provokes questions as to why the data shows this and what other factors we are missing that are causing this. For future analyses, it would be interesting to see whether we can explore these variables to figure out the cause."
   ]
  },
  {
   "cell_type": "markdown",
   "id": "e1a400d3",
   "metadata": {},
   "source": [
    "### Ethics"
   ]
  },
  {
   "cell_type": "markdown",
   "id": "f18d5067",
   "metadata": {},
   "source": [
    "The ethical concerns that I see with this data is the data source and method of collection. I am firstly looking at the freedom column. Freedom in itself is a really difficult topic to grasp and discuss, not to mention being able to quantify it. It is not something tangible that you can easily count or sum and so it raises questions how the creators of this dataset were able to measure and assign these values. Moreover, it's difficult to have a single standard for freedom across all the difficult countries, further questioning the validity of these values. \n",
    "\n",
    "Similarly, how are we able to quanitfy how happy a country is? How are we measuring this value and are we accurately getting a proper representation? Both freedom and happiness are topics that are very subjective and so it's questionable as to whether these values are truly reflective of the country. \n",
    "\n",
    "Another ethical concern I see with this data is that it doesn't take other factors into account that affect Health (Life Expectancy). It doesn't consider the fact that some countries have a higher life expectancy because they are a wealthier country that has better healthcare. As a result, the countries are difficult to compare because they start off at different starting points. Therefore, it is misleading to show that a country has a lower life expectancy without referencing the wealth gap or difference in healthcare that may be a cause of it. "
   ]
  }
 ],
 "metadata": {
  "kernelspec": {
   "display_name": "Python 3 (ipykernel)",
   "language": "python",
   "name": "python3"
  },
  "language_info": {
   "codemirror_mode": {
    "name": "ipython",
    "version": 3
   },
   "file_extension": ".py",
   "mimetype": "text/x-python",
   "name": "python",
   "nbconvert_exporter": "python",
   "pygments_lexer": "ipython3",
   "version": "3.9.12"
  }
 },
 "nbformat": 4,
 "nbformat_minor": 5
}
